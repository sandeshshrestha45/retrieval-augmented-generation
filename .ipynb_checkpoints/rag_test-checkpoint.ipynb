{
 "cells": [
  {
   "cell_type": "code",
   "execution_count": 1,
   "id": "b8f264e5-b061-4170-a4fc-ed4223acb488",
   "metadata": {},
   "outputs": [],
   "source": [
    "# download pdf"
   ]
  },
  {
   "cell_type": "code",
   "execution_count": 2,
   "id": "5dac3f3e-6ef0-4cfc-a48c-5335c7cd49ed",
   "metadata": {},
   "outputs": [
    {
     "name": "stdout",
     "output_type": "stream",
     "text": [
      "File David and Goliath.pdf exists\n"
     ]
    }
   ],
   "source": [
    "import os\n",
    "import requests\n",
    "\n",
    "# get the pdf document path\n",
    "pdf_path = r\"David and Goliath.pdf\"\n",
    "\n",
    "# download pdf\n",
    "if not os.path.exists(pdf_path):\n",
    "    print(\"[INFO] File doesn't exist, downloading....\")\n",
    "\n",
    "    # enter the path of the pdf\n",
    "    url = 'https://core-docs.s3.amazonaws.com/documents/asset/uploaded_file/222892/david-and-goliath.pdf'\n",
    "\n",
    "    # the local filename of the downloaded file\n",
    "    filename = pdf_path\n",
    "\n",
    "    # send a get request to the url\n",
    "    response = requests.get(url)\n",
    "\n",
    "    # check if the request was successful\n",
    "    if response.status_code == 200:\n",
    "        # open the file and save it\n",
    "        with open(filename, 'wb') as file:\n",
    "            file.write(response.content)\n",
    "        print(f\"[INFO] The file has been downloaded and saved as {filename}\")\n",
    "    else:\n",
    "        print(f\"[INFO] Failed to download the file. Status code: {response.status_code}\")\n",
    "else:\n",
    "    print(f\"File {pdf_path} exists\")"
   ]
  },
  {
   "cell_type": "code",
   "execution_count": 3,
   "id": "e0e67ed0-6c0b-4e0b-ba2a-273565ee556f",
   "metadata": {},
   "outputs": [],
   "source": [
    "# open and preprocess pdf"
   ]
  },
  {
   "cell_type": "code",
   "execution_count": 4,
   "id": "b5dfd7f9-69d5-42ff-8fa6-b51b4e4dcd2b",
   "metadata": {
    "scrolled": true
   },
   "outputs": [
    {
     "data": {
      "application/vnd.jupyter.widget-view+json": {
       "model_id": "30f1b75153fc462280575fcaef96a5a6",
       "version_major": 2,
       "version_minor": 0
      },
      "text/plain": [
       "0it [00:00, ?it/s]"
      ]
     },
     "metadata": {},
     "output_type": "display_data"
    },
    {
     "data": {
      "text/plain": [
       "[{'page_number': 1,\n",
       "  'page_char_count': 0,\n",
       "  'page_word_count': 1,\n",
       "  'page_sentence_count_raw': 1,\n",
       "  'page_token_count': 0.0,\n",
       "  'text': ''},\n",
       " {'page_number': 2,\n",
       "  'page_char_count': 0,\n",
       "  'page_word_count': 1,\n",
       "  'page_sentence_count_raw': 1,\n",
       "  'page_token_count': 0.0,\n",
       "  'text': ''},\n",
       " {'page_number': 3,\n",
       "  'page_char_count': 86,\n",
       "  'page_word_count': 15,\n",
       "  'page_sentence_count_raw': 1,\n",
       "  'page_token_count': 21.5,\n",
       "  'text': 'Malcolm Gladwell   david and goliath Underdogs, Misfits and the Art of Battling Giants'},\n",
       " {'page_number': 4,\n",
       "  'page_char_count': 891,\n",
       "  'page_word_count': 156,\n",
       "  'page_sentence_count_raw': 5,\n",
       "  'page_token_count': 222.75,\n",
       "  'text': 'Contents INTRODUCTION Goliath “Am I a dog that you should come to me with sticks?” PART ONE: THE ADVANTAGES OF DISADVANTAGES (AND THE DISADVANTAGES OF ADVANTAGES) ONE Vivek Ranadivé “It was really random. I mean, my father had never played basketball before.” TWO Teresa DeBrito “My largest class was twenty-nine kids. Oh, it was fun.” THREE Caroline Sacks “If I’d gone to the University of Maryland, I’d still be in science.” PART TWO: THE THEORY OF DESIRABLE DIFFICULTY FOUR David Boies You wouldn’t wish dyslexia on your child. Or would you? FIVE Emil “Jay” Freireich “How Jay did it, I don’t know.” SIX Wyatt Walker “De rabbit is de slickest o’ all de animals de Lawd ever made.” PART THREE: THE LIMITS OF POWER SEVEN Rosemary Lawlor “I wasn’t born that way. This was forced upon me.” EIGHT Wilma Derksen “We have all done something dreadful in our lives, or have felt the urge to.” NINE'},\n",
       " {'page_number': 5,\n",
       "  'page_char_count': 129,\n",
       "  'page_word_count': 22,\n",
       "  'page_sentence_count_raw': 1,\n",
       "  'page_token_count': 32.25,\n",
       "  'text': 'André Trocmé “We feel obliged to tell you that there are among us a certain number of Jews.” NOTES ACKNOWLEDGMENTS Follow Penguin'},\n",
       " {'page_number': 6,\n",
       "  'page_char_count': 68,\n",
       "  'page_word_count': 13,\n",
       "  'page_sentence_count_raw': 1,\n",
       "  'page_token_count': 17.0,\n",
       "  'text': 'BY THE SAME AUTHOR What the Dog Saw Outliers Blink The Tipping Point'},\n",
       " {'page_number': 7,\n",
       "  'page_char_count': 38,\n",
       "  'page_word_count': 8,\n",
       "  'page_sentence_count_raw': 2,\n",
       "  'page_token_count': 9.5,\n",
       "  'text': 'For A.L. and for S.F., a real underdog'},\n",
       " {'page_number': 8,\n",
       "  'page_char_count': 248,\n",
       "  'page_word_count': 49,\n",
       "  'page_sentence_count_raw': 1,\n",
       "  'page_token_count': 62.0,\n",
       "  'text': 'But the Lord said to Samuel, “Do not look on his appearance or on the height of his stature, because I have rejected him; for the Lord does not see as mortals see; they look on the outward appearance, but the Lord looks on the heart.” 1 Samuel 16:7'},\n",
       " {'page_number': 9,\n",
       "  'page_char_count': 2944,\n",
       "  'page_word_count': 517,\n",
       "  'page_sentence_count_raw': 29,\n",
       "  'page_token_count': 736.0,\n",
       "  'text': 'Introduction Goliath “AM I A DOG THAT YOU SHOULD COME TO ME WITH STICKS?” 1. At the heart of ancient Palestine is the region known as the Shephelah, a series of ridges and valleys connecting the Judaean Mountains to the east with the wide, flat expanse of the Mediterranean plain. It is an area of breathtaking beauty, home to vineyards and wheat fields and forests of sycamore and terebinth. It is also of great strategic importance. Over the centuries, numerous battles have been fought for control of the region because the valleys rising from the Mediterranean plain offer those on the coast a clear path to the cities of Hebron, Bethlehem, and Jerusalem in the Judaean highlands. The most important valley is Aijalon, in the north. But the most storied is the Elah. The Elah was where Saladin faced off against the Knights of the Crusades in the twelfth century. It played a central role in the Maccabean wars with Syria more than a thousand years before that, and, most famously, during the days of the Old Testament, it was where the fledgling Kingdom of Israel squared off against the armies of the Philistines. The Philistines were from Crete. They were a seafaring people who had moved to Palestine and settled along the coast. The Israelites were clustered in the mountains, under the leadership of King Saul. In the second half of the eleventh century BCE, the Philistines began moving east, winding their way upstream along the floor of the Elah Valley. Their goal was to capture the mountain ridge near Bethlehem and split Saul’s kingdom in two. The Philistines were battle-tested and dangerous, and the sworn enemies of the Israelites. Alarmed, Saul gathered his men and hastened down from the mountains to confront them. The Philistines set up camp along the southern ridge of the Elah. The Israelites pitched their tents on the other side, along the northern ridge, which left the two armies looking across the ravine at each other. Neither dared to move. To attack meant descending down the hill and then making a suicidal climb up the enemy’s ridge on the other side. Finally, the Philistines had enough. They sent their greatest warrior down into the valley to resolve the deadlock one on one. He was a giant, six foot nine at least, wearing a bronze helmet and full body armor. He carried a javelin, a spear, and a sword. An attendant preceded him, carrying a large shield. The giant faced the Israelites and shouted out: “Choose you a man and let him come down to me! If he prevail in battle against me and strike me down, we shall be slaves to you. But if I prevail and strike him down, you will be slaves to us and serve us.” In the Israelite camp, no one moved. Who could win against such a terrifying opponent? Then, a shepherd boy who had come down from Bethlehem to bring food to his brothers stepped forward and volunteered. Saul objected: “You cannot go against this Philistine to do battle with him, for you are a'},\n",
       " {'page_number': 10,\n",
       "  'page_char_count': 3785,\n",
       "  'page_word_count': 658,\n",
       "  'page_sentence_count_raw': 33,\n",
       "  'page_token_count': 946.25,\n",
       "  'text': 'lad and he is a man of war from his youth.” But the shepherd was adamant. He had faced more ferocious opponents than this, he argued. “When the lion or the bear would come and carry off a sheep from the herd,” he told Saul, “I would go after him and strike him down and rescue it from his clutches.” Saul had no other options. He relented, and the shepherd boy ran down the hill toward the giant standing in the valley. “Come to me, that I may give your flesh to the birds of the heavens and the beasts of the field,” the giant cried out when he saw his opponent approach. Thus began one of history’s most famous battles. The giant’s name was Goliath. The shepherd boy’s name was David. 2. David and Goliath is a book about what happens when ordinary people confront giants. By “giants,” I mean powerful opponents of all kinds—from armies and mighty warriors to disability, misfortune, and oppression. Each chapter tells the story of a different person—famous or unknown, ordinary or brilliant—who has faced an outsize challenge and been forced to respond. Should I play by the rules or follow my own instincts? Shall I persevere or give up? Should I strike back or forgive? Through these stories, I want to explore two ideas. The first is that much of what we consider valuable in our world arises out of these kinds of lopsided conflicts, because the act of facing overwhelming odds produces greatness and beauty. And second, that we consistently get these kinds of conflicts wrong. We misread them. We misinterpret them. Giants are not what we think they are. The same qualities that appear to give them strength are often the sources of great weakness. And the fact of being an underdog can change people in ways that we often fail to appreciate: it can open doors and create opportunities and educate and enlighten and make possible what might otherwise have seemed unthinkable. We need a better guide to facing giants—and there is no better place to start that journey than with the epic confrontation between David and Goliath three thousand years ago in the Valley of Elah. When Goliath shouted out to the Israelites, he was asking for what was known as “single combat.” This was a common practice in the ancient world. Two sides in a conflict would seek to avoid the heavy bloodshed of open battle by choosing one warrior to represent each in a duel. For example, the first-century BCE Roman historian Quintus Claudius Quadrigarius tells of an epic battle in which a Gaul warrior began mocking his Roman opponents. “This immediately aroused the great indignation of one Titus Manlius, a youth of the highest birth,” Quadrigarius writes. Titus challenged the Gaul to a duel: He stepped forward, and would not suffer Roman valour to be shamefully tarnished by a Gaul. Armed with a legionary’s shield and a Spanish sword, he confronted the Gaul. Their fight took place on the very bridge [over the Anio River] in the presence of both armies, amid great apprehension. Thus they confronted each other: the Gaul, according to his method of fighting, with shield advanced and awaiting an attack; Manlius, relying on courage rather than skill, struck shield against shield and threw the Gaul off balance. While the Gaul was trying to regain the same position, Manlius again struck shield against shield and again forced the man to change his ground. In this fashion he slipped under the Gaul’s sword and stabbed him in the chest with his Spanish blade.…After he had slain him, Manlius cut off the Gaul’s head, tore off his tongue and put it, covered as it was with blood, around his own neck. This is what Goliath was expecting—a warrior like himself to come forward for hand-to-hand combat. It never occurred to him that the battle would be fought on anything other than those terms,'}]"
      ]
     },
     "execution_count": 4,
     "metadata": {},
     "output_type": "execute_result"
    }
   ],
   "source": [
    "import fitz # requires: !pip install PyMuPDF\n",
    "from tqdm.auto import tqdm # pip install tqdm\n",
    "\n",
    "def text_formatter(text: str) -> str:\n",
    "    \"\"\" Performs minor formatting on text. \"\"\"\n",
    "    cleaned_text = text.replace(\"\\n\", \" \").strip()\n",
    "\n",
    "    # potentially more text formatting functions go here\n",
    "    return cleaned_text\n",
    "\n",
    "def open_and_read_pdf(pdf_path: str) -> list[dict]:\n",
    "    doc = fitz.open(pdf_path)\n",
    "    pages_and_texts = []\n",
    "    for page_number, page in tqdm(enumerate(doc)):\n",
    "        text = page.get_text()\n",
    "        text = text_formatter(text = text)\n",
    "        pages_and_texts.append({\"page_number\" : page_number + 1, # page_number - 5,6 (adjust accoring to your pdf's starting page)\n",
    "                                \"page_char_count\": len(text),\n",
    "                                \"page_word_count\": len(text.split(\" \")),\n",
    "                                \"page_sentence_count_raw\": len(text.split(\". \")),\n",
    "                                \"page_token_count\": len(text) / 4, # 1 token = ~ 4 characters\n",
    "                                \"text\": text})\n",
    "    return pages_and_texts\n",
    "\n",
    "pages_and_texts = open_and_read_pdf(pdf_path = pdf_path)\n",
    "pages_and_texts[:10]"
   ]
  },
  {
   "cell_type": "code",
   "execution_count": 5,
   "id": "eefc7cd4-c5b5-4fe2-9c94-be5d9aa9f576",
   "metadata": {
    "scrolled": true
   },
   "outputs": [
    {
     "data": {
      "text/plain": [
       "[{'page_number': 58,\n",
       "  'page_char_count': 3182,\n",
       "  'page_word_count': 581,\n",
       "  'page_sentence_count_raw': 33,\n",
       "  'page_token_count': 795.5,\n",
       "  'text': 'having a brain so sluggish that when it comes to putting together the building blocks of words, those crucial 40 milliseconds simply go by too quickly? “If you have no concept of the sounds of language—if you take away a letter, if you take away a sound, and you don’t know what to do, then it’s really hard to map the sounds to the written counterparts,” Nadine Gaab, a dyslexia researcher at Harvard, explained. “It may take you a while to learn to read. You read really slowly, which then impairs your reading fluency, which then impairs your reading comprehension, because you’re so slow that by the time you’re at the end of the sentence, you’ve forgotten what the beginning of the sentence was. So it leads to all these problems in middle school or high school. Then it starts affecting all other subjects in school. You can’t read. How are you going to do on math tests that have a lot of writing in them? Or how do you take an exam in social studies if it takes you two hours to read what they want from you? “Usually you get a diagnosis at eight or nine,” she went on. “And we find that by that point, there are already a lot of serious psychological implications, because by that time, you’ve been struggling for three years. Maybe you were the cool kid on the playground when you were four. Then you entered kindergarten and all your peers suddenly started reading, and you can’t figure it out. So you get frustrated. Your peers may think you’re stupid. Your parents may think you’re lazy. You have very low self-esteem, which leads to an increased rate of depression. Kids with dyslexia are more likely to end up in the juvenile system, because they act up. It’s because they can’t figure things out. It’s so important in our society to read.” You wouldn’t wish dyslexia on your child. Or would you? 2. So far in David and Goliath, we’ve looked at the ways in which we are often misled about the nature of advantages. Now it is time to turn our attention to the other side of the ledger. What do we mean when we call something a disadvantage? Conventional wisdom holds that a disadvantage is something that ought to be avoided—that it is a setback or a difficulty that leaves you worse off than you would be otherwise. But that is not always the case. In the next few chapters, I want to explore the idea that there are such things as “desirable difficulties.” That concept was conceived by Robert Bjork and Elizabeth Bjork, two psychologists at the University of California, Los Angeles, and it is a beautiful and haunting way of understanding how underdogs come to excel. Consider, for example, the following puzzle. 1. A bat and a ball cost $1.10 in total. The bat costs $1.00 more than the ball. How much does the ball cost? What’s your instinctive response? I’m guessing that it is that the ball must cost 10 cents. That can’t be right, though, can it? The bat is supposed to cost $1.00 more than the ball. So if the ball costs 10 cents, the bat must cost $1.10, and we’ve exceeded our total. The right answer must be that the ball costs 5 cents. Here’s another question: 2. If it takes 5 machines 5 minutes to make 5 widgets, how long would it take 100 machines to'},\n",
       " {'page_number': 194,\n",
       "  'page_char_count': 498,\n",
       "  'page_word_count': 78,\n",
       "  'page_sentence_count_raw': 2,\n",
       "  'page_token_count': 124.5,\n",
       "  'text': '* An impressive number of famous people have come from Brownsville over the years: two heavyweight boxing champions (Mike Tyson and Riddick Bowe); the composer Aaron Copland; the Three Stooges (played by Moe and Shemp Howard [later replaced by his brother Curly] and Larry Fine); the television host Larry King—not to mention a long list of professional basketball, football, and baseball stars. The operative words, though, are “come from Brownsville.” Nobody who can help it stays in Brownsville.'},\n",
       " {'page_number': 87,\n",
       "  'page_char_count': 2126,\n",
       "  'page_word_count': 374,\n",
       "  'page_sentence_count_raw': 16,\n",
       "  'page_token_count': 531.5,\n",
       "  'text': 'Hudson gave his roll of film from that day to his editor, Jim Laxon. Laxon looked through Hudson’s photos until he came to the boy leaning into the dog. He was, he said later, riveted by the “saintly calm of the young [man] in the snarling jaws of the German shepherd.” He hadn’t felt that way about a photograph since he published a Pulitzer Prize– winning photo seventeen years before of a woman jumping from an upper-story window in a hotel fire in Atlanta. Laxon took the picture and sent it out over the wires. The next day, the New York Times published it above the fold across three columns on the front page of its Saturday paper, as did virtually every major paper in the country. President Kennedy saw the photograph and was appalled. The secretary of state, Dean Rusk, worried that it would “embarrass our friends abroad and make our enemies joyful.” The photo was discussed on the floor of Congress and in countless living rooms and classrooms. For a time, it seemed like Americans could talk of little else. It was an image, as one journalist put it, that would “burn forever…the thin, well-dressed boy seeming to be leaning into the dog, his arms limp at his side, calmly staring straight ahead as though to say—‘Take me, here I am.’ ” For years, Martin Luther King and his army of civil rights activists had been fighting the thicket of racist laws and policies that blanketed the American South—the rules that made it hard or impossible for blacks to get jobs, vote, get a proper education, or even to use the same water fountain as a white person. Suddenly, the tide turned. A year later, the U.S. Congress passed the landmark Civil Rights Act of 1964, one of the most important pieces of legislation in the history of the United States. The Civil Rights Act, it has often been said, was “written in Birmingham.” 2. In 1963, when Martin Luther King came to Birmingham, his movement was in crisis. He had just spent nine months directing protests against segregation in Albany, Georgia, two hundred miles to the south, and he had limped away from Albany without winning any significant concessions. The biggest'}]"
      ]
     },
     "execution_count": 5,
     "metadata": {},
     "output_type": "execute_result"
    }
   ],
   "source": [
    "import random\n",
    "random.sample(pages_and_texts, k = 3)"
   ]
  },
  {
   "cell_type": "code",
   "execution_count": 6,
   "id": "d44ad160-fdf2-4102-97a6-293c3ede9733",
   "metadata": {},
   "outputs": [
    {
     "data": {
      "text/html": [
       "<div>\n",
       "<style scoped>\n",
       "    .dataframe tbody tr th:only-of-type {\n",
       "        vertical-align: middle;\n",
       "    }\n",
       "\n",
       "    .dataframe tbody tr th {\n",
       "        vertical-align: top;\n",
       "    }\n",
       "\n",
       "    .dataframe thead th {\n",
       "        text-align: right;\n",
       "    }\n",
       "</style>\n",
       "<table border=\"1\" class=\"dataframe\">\n",
       "  <thead>\n",
       "    <tr style=\"text-align: right;\">\n",
       "      <th></th>\n",
       "      <th>page_number</th>\n",
       "      <th>page_char_count</th>\n",
       "      <th>page_word_count</th>\n",
       "      <th>page_sentence_count_raw</th>\n",
       "      <th>page_token_count</th>\n",
       "    </tr>\n",
       "  </thead>\n",
       "  <tbody>\n",
       "    <tr>\n",
       "      <th>count</th>\n",
       "      <td>210.00</td>\n",
       "      <td>210.00</td>\n",
       "      <td>210.00</td>\n",
       "      <td>210.00</td>\n",
       "      <td>210.00</td>\n",
       "    </tr>\n",
       "    <tr>\n",
       "      <th>mean</th>\n",
       "      <td>105.50</td>\n",
       "      <td>2228.32</td>\n",
       "      <td>387.00</td>\n",
       "      <td>21.99</td>\n",
       "      <td>557.08</td>\n",
       "    </tr>\n",
       "    <tr>\n",
       "      <th>std</th>\n",
       "      <td>60.77</td>\n",
       "      <td>1563.33</td>\n",
       "      <td>269.38</td>\n",
       "      <td>16.45</td>\n",
       "      <td>390.83</td>\n",
       "    </tr>\n",
       "    <tr>\n",
       "      <th>min</th>\n",
       "      <td>1.00</td>\n",
       "      <td>0.00</td>\n",
       "      <td>1.00</td>\n",
       "      <td>1.00</td>\n",
       "      <td>0.00</td>\n",
       "    </tr>\n",
       "    <tr>\n",
       "      <th>25%</th>\n",
       "      <td>53.25</td>\n",
       "      <td>521.25</td>\n",
       "      <td>94.25</td>\n",
       "      <td>5.00</td>\n",
       "      <td>130.31</td>\n",
       "    </tr>\n",
       "    <tr>\n",
       "      <th>50%</th>\n",
       "      <td>105.50</td>\n",
       "      <td>2741.00</td>\n",
       "      <td>454.50</td>\n",
       "      <td>23.50</td>\n",
       "      <td>685.25</td>\n",
       "    </tr>\n",
       "    <tr>\n",
       "      <th>75%</th>\n",
       "      <td>157.75</td>\n",
       "      <td>3537.50</td>\n",
       "      <td>616.50</td>\n",
       "      <td>35.75</td>\n",
       "      <td>884.38</td>\n",
       "    </tr>\n",
       "    <tr>\n",
       "      <th>max</th>\n",
       "      <td>210.00</td>\n",
       "      <td>5888.00</td>\n",
       "      <td>955.00</td>\n",
       "      <td>65.00</td>\n",
       "      <td>1472.00</td>\n",
       "    </tr>\n",
       "  </tbody>\n",
       "</table>\n",
       "</div>"
      ],
      "text/plain": [
       "       page_number  page_char_count  page_word_count  page_sentence_count_raw  \\\n",
       "count       210.00           210.00           210.00                   210.00   \n",
       "mean        105.50          2228.32           387.00                    21.99   \n",
       "std          60.77          1563.33           269.38                    16.45   \n",
       "min           1.00             0.00             1.00                     1.00   \n",
       "25%          53.25           521.25            94.25                     5.00   \n",
       "50%         105.50          2741.00           454.50                    23.50   \n",
       "75%         157.75          3537.50           616.50                    35.75   \n",
       "max         210.00          5888.00           955.00                    65.00   \n",
       "\n",
       "       page_token_count  \n",
       "count            210.00  \n",
       "mean             557.08  \n",
       "std              390.83  \n",
       "min                0.00  \n",
       "25%              130.31  \n",
       "50%              685.25  \n",
       "75%              884.38  \n",
       "max             1472.00  "
      ]
     },
     "execution_count": 6,
     "metadata": {},
     "output_type": "execute_result"
    }
   ],
   "source": [
    "import pandas as pd\n",
    "\n",
    "df = pd.DataFrame(pages_and_texts)\n",
    "df.describe().round(2)"
   ]
  },
  {
   "cell_type": "markdown",
   "id": "da7581ef-910d-44ca-a3fb-e3dca32de56d",
   "metadata": {},
   "source": [
    "Why would we care about Token Counts? \n",
    "\n",
    "Token Count is important to think about because: \n",
    "1. Embedding models don't deal with infinite tokens.\n",
    "2. LLMs don't deal with infinite tokens.\n",
    "\n",
    "For example, an embedding model may have been trained to embed sequences of 384 tokens into numerical space. (sentence transformers 'all-mpnet-base-v2', https://www.sbert.net/docs/pretrained_models.html)\n",
    "\n",
    "As for LLMs, they can't accept infinite tokens in their context window."
   ]
  },
  {
   "cell_type": "markdown",
   "id": "a6472ca9-e49d-488b-ad85-b1c1f99ebdef",
   "metadata": {},
   "source": [
    "### further text processing. (splitting pages into sentences)\n",
    "\n",
    " two ways to do this\n",
    " 1. by splitting on \". \"\n",
    " 2. with a NLP library such as Spacy and NLTK. "
   ]
  },
  {
   "cell_type": "code",
   "execution_count": 7,
   "id": "c2c40ff6-2344-4068-911e-8e72d3b4e071",
   "metadata": {
    "scrolled": true
   },
   "outputs": [],
   "source": [
    "#!pip install spacy"
   ]
  },
  {
   "cell_type": "code",
   "execution_count": 8,
   "id": "a0c6ab97-7d99-47f0-b488-f2a2320f8247",
   "metadata": {},
   "outputs": [
    {
     "data": {
      "text/plain": [
       "[Hi., How are you?, What is your name?, Good to see you.]"
      ]
     },
     "execution_count": 8,
     "metadata": {},
     "output_type": "execute_result"
    }
   ],
   "source": [
    "from spacy.lang.en import English\n",
    "\n",
    "nlp = English()\n",
    "\n",
    "# add a sentencizer pipeline, https://spacy.io/api/sentencizer\n",
    "nlp.add_pipe(\"sentencizer\")\n",
    "\n",
    "# create example instance of a document \n",
    "doc = nlp(\"Hi. How are you? What is your name? Good to see you.\")\n",
    "assert len(list(doc.sents)) == 4\n",
    "\n",
    "list(doc.sents)"
   ]
  },
  {
   "cell_type": "code",
   "execution_count": 9,
   "id": "27f6c4d0-ea69-447e-bffa-24bbbd5c0c62",
   "metadata": {
    "scrolled": true
   },
   "outputs": [
    {
     "data": {
      "text/plain": [
       "{'page_number': 43,\n",
       " 'page_char_count': 3827,\n",
       " 'page_word_count': 659,\n",
       " 'page_sentence_count_raw': 36,\n",
       " 'page_token_count': 956.75,\n",
       " 'text': 'in defying and attracting criticism, coming face-to-face with the big public.” But the very things that made the Salon so attractive—how selective and prestigious it was—also made it problematic. The Palais was an enormous barn of a building three hundred yards long with a central aisle that was two stories high. A typical Salon might accept three or four thousand paintings, and they were hung in four tiers, starting at ground level and stretching up to the ceiling. Only paintings that met with the unanimous approval of the jury were hung “on the line,” at eye level. If you were “skyed”—that is, hung closest to the ceiling—it was all but impossible for your painting to be seen. (One of Renoir’s paintings was once skyed in the dépotoir.) No painter could submit more than three works. The crowds were often overwhelming. The Salon was the Big Pond. But it was very hard to be anything at the Salon but a Little Fish. Pissarro and Monet disagreed with Manet. They thought it made more sense to be a Big Fish in a Little Pond. If they were off by themselves and held their own show, they said, they wouldn’t be bound by the restrictive rules of the Salon, where Olympia was considered an outrage and where the medals were won by paintings of soldiers and weeping women. They could paint whatever they wanted. And they wouldn’t get lost in the crowd, because there wouldn’t be a crowd. In 1873, Pissarro and Monet proposed that the Impressionists set up a collective called the Société Anonyme Coopérative des Artistes Peintres, Sculpteurs, Graveurs. There would be no competition, no juries, and no medals. Every artist would be treated as an equal. Everyone but Manet was in. The group found space on the Boulevard des Capucines on the top floor of a building that had just been vacated by a photographer. It was a series of small rooms with red-brown walls. The Impressionists’ exhibition opened on April 15, 1874, and lasted one month. The entrance fee was one franc. There were 165 works of art on display, including three Cézannes, ten paintings by Degas, nine Monets, five Pissarros, six Renoirs, and five by Alfred Sisley—a tiny fraction of what was on the walls of the Salon across town. In their show, the Impressionists could exhibit as many canvases as they wished and hang them in a way that allowed people to actually see them. “The Impressionists were lost in the mass of Salon paintings, even when accepted,” the art historians Harrison White and Cynthia White write. “With…the independent group show, they could gain the public’s eye.” Thirty-five hundred people attended the show—175 on the first day alone, which was enough to bring the artists critical attention. Not all of that attention was positive: one joke told was that what the Impressionists were doing was loading a pistol with paint and firing at the canvas. But that was the second part of the Big Fish–Little Pond bargain. The Big Fish–Little Pond option might be scorned by some on the outside, but Small Ponds are welcoming places for those on the inside. They have all of the support that comes from community and friendship—and they are places where innovation and individuality are not frowned upon. “We are beginning to make ourselves a niche,” a hopeful Pissarro wrote to a friend. “We have succeeded as intruders in setting up our little banner in the midst of the crowd.” Their challenge was “to advance without worrying about opinion.” He was right. Off by themselves, the Impressionists found a new identity. They felt a new creative freedom, and before long, the outside world began to sit up and take notice. In the history of modern art, there has never been a more important or more famous exhibition. If you tried to buy the paintings in that warren of top-floor rooms today, it would cost you more than a billion dollars.'}"
      ]
     },
     "execution_count": 9,
     "metadata": {},
     "output_type": "execute_result"
    }
   ],
   "source": [
    "pages_and_texts[42]"
   ]
  },
  {
   "cell_type": "code",
   "execution_count": 10,
   "id": "9ead9939-e565-485e-9c64-8db5f160f5a0",
   "metadata": {},
   "outputs": [
    {
     "data": {
      "application/vnd.jupyter.widget-view+json": {
       "model_id": "4acde7742d504c8aac7595953d1344ac",
       "version_major": 2,
       "version_minor": 0
      },
      "text/plain": [
       "  0%|          | 0/210 [00:00<?, ?it/s]"
      ]
     },
     "metadata": {},
     "output_type": "display_data"
    }
   ],
   "source": [
    "for item in tqdm(pages_and_texts):\n",
    "    item[\"sentences\"] = list(nlp(item[\"text\"]).sents)\n",
    "\n",
    "    # make sure all the sentences are strings (the default datatype is a spacy datatype)\n",
    "    item[\"sentences\"] = [str(sentence) for sentence in item[\"sentences\"]]\n",
    "\n",
    "    # count the sentences\n",
    "    item[\"page_sentence_count_spacy\"] = len(item[\"sentences\"])"
   ]
  },
  {
   "cell_type": "code",
   "execution_count": 11,
   "id": "a349bfc3-3c9f-42d4-b5fe-16a6a988d221",
   "metadata": {},
   "outputs": [
    {
     "data": {
      "text/plain": [
       "[{'page_number': 13,\n",
       "  'page_char_count': 3286,\n",
       "  'page_word_count': 589,\n",
       "  'page_sentence_count_raw': 26,\n",
       "  'page_token_count': 821.5,\n",
       "  'text': 'expecting had suddenly changed shape. “You come against me with sword and spear and javelin,” David said to Goliath, “but I come against you in the name of the Lord Almighty, the God of the armies of Israel, whom you have defied. This day the Lord will deliver you into my hands, and I’ll strike you down and cut off your head.… All those gathered here will know that it is not by sword or spear that the Lord saves; for the battle is the Lord, and he will give all of you into our hands.” Twice David mentions Goliath’s sword and spear, as if to emphasize how profoundly different his intentions are. Then he reaches into his shepherd’s bag for a stone, and at that point no one watching from the ridges on either side of the valley would have considered David’s victory improbable. David was a slinger, and slingers beat infantry, hands down. “Goliath had as much chance against David,” the historian Robert Dohrenwend writes, “as any Bronze Age warrior with a sword would have had against an [opponent] armed with a .45 automatic pistol.”* 4. Why has there been so much misunderstanding around that day in the Valley of Elah? On one level, the duel reveals the folly of our assumptions about power. The reason King Saul is skeptical of David’s chances is that David is small and Goliath is large. Saul thinks of power in terms of physical might. He doesn’t appreciate that power can come in other forms as well—in breaking rules, in substituting speed and surprise for strength. Saul is not alone in making this mistake. In the pages that follow, I’m going to argue that we continue to make that error today, in ways that have consequences for everything from how we educate our children to how we fight crime and disorder. But there’s a second, deeper issue here. Saul and the Israelites think they know who Goliath is. They size him up and jump to conclusions about what they think he is capable of. But they do not really see him. The truth is that Goliath’s behavior is puzzling. He is supposed to be a mighty warrior. But he’s not acting like one. He comes down to the valley floor accompanied by an attendant—a servant walking before him, carrying a shield. Shield bearers in ancient times often accompanied archers into battle because a soldier using a bow and arrow had no free hand to carry any kind of protection on his own. But why does Goliath, a man calling for sword-on-sword single combat, need to be assisted by a third party carrying an archer’s shield? What’s more, why does he say to David, “Come to me”? Why can’t Goliath go to David? The biblical account emphasizes how slowly Goliath moves, which is an odd thing to say about someone who is alleged to be a battle hero of infinite strength. In any case, why doesn’t Goliath respond much sooner to the sight of David coming down the hillside without any sword or shield or armor? When he first sees David, his first reaction is to be insulted, when he should be terrified. He seems oblivious of what’s happening around him. There is even that strange comment after he finally spots David with his shepherd’s staff: “Am I a dog that you should come to me with sticks?” Sticks plural? David is holding only one stick. What many medical experts now believe, in fact, is that Goliath had a serious medical condition.',\n",
       "  'sentences': ['expecting had suddenly changed shape. “',\n",
       "   'You come against me with sword and spear and javelin,” David said to Goliath, “but I come against you in the name of the Lord Almighty, the God of the armies of Israel, whom you have defied.',\n",
       "   'This day the Lord will deliver you into my hands, and I’ll strike you down and cut off your head.…',\n",
       "   'All those gathered here will know that it is not by sword or spear that the Lord saves; for the battle is the Lord, and he will give all of you into our hands.”',\n",
       "   'Twice David mentions Goliath’s sword and spear, as if to emphasize how profoundly different his intentions are.',\n",
       "   'Then he reaches into his shepherd’s bag for a stone, and at that point no one watching from the ridges on either side of the valley would have considered David’s victory improbable.',\n",
       "   'David was a slinger, and slingers beat infantry, hands down. “',\n",
       "   'Goliath had as much chance against David,” the historian Robert Dohrenwend writes, “as any Bronze Age warrior with a sword would have had against an [opponent] armed with a .45 automatic pistol.”*',\n",
       "   '4.',\n",
       "   'Why has there been so much misunderstanding around that day in the Valley of Elah?',\n",
       "   'On one level, the duel reveals the folly of our assumptions about power.',\n",
       "   'The reason King Saul is skeptical of David’s chances is that David is small and Goliath is large.',\n",
       "   'Saul thinks of power in terms of physical might.',\n",
       "   'He doesn’t appreciate that power can come in other forms as well—in breaking rules, in substituting speed and surprise for strength.',\n",
       "   'Saul is not alone in making this mistake.',\n",
       "   'In the pages that follow, I’m going to argue that we continue to make that error today, in ways that have consequences for everything from how we educate our children to how we fight crime and disorder.',\n",
       "   'But there’s a second, deeper issue here.',\n",
       "   'Saul and the Israelites think they know who Goliath is.',\n",
       "   'They size him up and jump to conclusions about what they think he is capable of.',\n",
       "   'But they do not really see him.',\n",
       "   'The truth is that Goliath’s behavior is puzzling.',\n",
       "   'He is supposed to be a mighty warrior.',\n",
       "   'But he’s not acting like one.',\n",
       "   'He comes down to the valley floor accompanied by an attendant—a servant walking before him, carrying a shield.',\n",
       "   'Shield bearers in ancient times often accompanied archers into battle because a soldier using a bow and arrow had no free hand to carry any kind of protection on his own.',\n",
       "   'But why does Goliath, a man calling for sword-on-sword single combat, need to be assisted by a third party carrying an archer’s shield?',\n",
       "   'What’s more, why does he say to David, “Come to me”?',\n",
       "   'Why can’t Goliath go to David?',\n",
       "   'The biblical account emphasizes how slowly Goliath moves, which is an odd thing to say about someone who is alleged to be a battle hero of infinite strength.',\n",
       "   'In any case, why doesn’t Goliath respond much sooner to the sight of David coming down the hillside without any sword or shield or armor?',\n",
       "   'When he first sees David, his first reaction is to be insulted, when he should be terrified.',\n",
       "   'He seems oblivious of what’s happening around him.',\n",
       "   'There is even that strange comment after he finally spots David with his shepherd’s staff: “Am I a dog that you should come to me with sticks?”',\n",
       "   'Sticks plural?',\n",
       "   'David is holding only one stick.',\n",
       "   'What many medical experts now believe, in fact, is that Goliath had a serious medical condition.'],\n",
       "  'page_sentence_count_spacy': 36}]"
      ]
     },
     "execution_count": 11,
     "metadata": {},
     "output_type": "execute_result"
    }
   ],
   "source": [
    "random.sample(pages_and_texts, k = 1)"
   ]
  },
  {
   "cell_type": "code",
   "execution_count": 12,
   "id": "3faf164f-0f95-4589-89b1-5c2c9df05688",
   "metadata": {},
   "outputs": [
    {
     "data": {
      "text/html": [
       "<div>\n",
       "<style scoped>\n",
       "    .dataframe tbody tr th:only-of-type {\n",
       "        vertical-align: middle;\n",
       "    }\n",
       "\n",
       "    .dataframe tbody tr th {\n",
       "        vertical-align: top;\n",
       "    }\n",
       "\n",
       "    .dataframe thead th {\n",
       "        text-align: right;\n",
       "    }\n",
       "</style>\n",
       "<table border=\"1\" class=\"dataframe\">\n",
       "  <thead>\n",
       "    <tr style=\"text-align: right;\">\n",
       "      <th></th>\n",
       "      <th>page_number</th>\n",
       "      <th>page_char_count</th>\n",
       "      <th>page_word_count</th>\n",
       "      <th>page_sentence_count_raw</th>\n",
       "      <th>page_token_count</th>\n",
       "      <th>page_sentence_count_spacy</th>\n",
       "    </tr>\n",
       "  </thead>\n",
       "  <tbody>\n",
       "    <tr>\n",
       "      <th>count</th>\n",
       "      <td>210.00</td>\n",
       "      <td>210.00</td>\n",
       "      <td>210.00</td>\n",
       "      <td>210.00</td>\n",
       "      <td>210.00</td>\n",
       "      <td>210.00</td>\n",
       "    </tr>\n",
       "    <tr>\n",
       "      <th>mean</th>\n",
       "      <td>105.50</td>\n",
       "      <td>2228.32</td>\n",
       "      <td>387.00</td>\n",
       "      <td>21.99</td>\n",
       "      <td>557.08</td>\n",
       "      <td>25.62</td>\n",
       "    </tr>\n",
       "    <tr>\n",
       "      <th>std</th>\n",
       "      <td>60.77</td>\n",
       "      <td>1563.33</td>\n",
       "      <td>269.38</td>\n",
       "      <td>16.45</td>\n",
       "      <td>390.83</td>\n",
       "      <td>19.12</td>\n",
       "    </tr>\n",
       "    <tr>\n",
       "      <th>min</th>\n",
       "      <td>1.00</td>\n",
       "      <td>0.00</td>\n",
       "      <td>1.00</td>\n",
       "      <td>1.00</td>\n",
       "      <td>0.00</td>\n",
       "      <td>0.00</td>\n",
       "    </tr>\n",
       "    <tr>\n",
       "      <th>25%</th>\n",
       "      <td>53.25</td>\n",
       "      <td>521.25</td>\n",
       "      <td>94.25</td>\n",
       "      <td>5.00</td>\n",
       "      <td>130.31</td>\n",
       "      <td>5.00</td>\n",
       "    </tr>\n",
       "    <tr>\n",
       "      <th>50%</th>\n",
       "      <td>105.50</td>\n",
       "      <td>2741.00</td>\n",
       "      <td>454.50</td>\n",
       "      <td>23.50</td>\n",
       "      <td>685.25</td>\n",
       "      <td>28.00</td>\n",
       "    </tr>\n",
       "    <tr>\n",
       "      <th>75%</th>\n",
       "      <td>157.75</td>\n",
       "      <td>3537.50</td>\n",
       "      <td>616.50</td>\n",
       "      <td>35.75</td>\n",
       "      <td>884.38</td>\n",
       "      <td>41.00</td>\n",
       "    </tr>\n",
       "    <tr>\n",
       "      <th>max</th>\n",
       "      <td>210.00</td>\n",
       "      <td>5888.00</td>\n",
       "      <td>955.00</td>\n",
       "      <td>65.00</td>\n",
       "      <td>1472.00</td>\n",
       "      <td>70.00</td>\n",
       "    </tr>\n",
       "  </tbody>\n",
       "</table>\n",
       "</div>"
      ],
      "text/plain": [
       "       page_number  page_char_count  page_word_count  page_sentence_count_raw  \\\n",
       "count       210.00           210.00           210.00                   210.00   \n",
       "mean        105.50          2228.32           387.00                    21.99   \n",
       "std          60.77          1563.33           269.38                    16.45   \n",
       "min           1.00             0.00             1.00                     1.00   \n",
       "25%          53.25           521.25            94.25                     5.00   \n",
       "50%         105.50          2741.00           454.50                    23.50   \n",
       "75%         157.75          3537.50           616.50                    35.75   \n",
       "max         210.00          5888.00           955.00                    65.00   \n",
       "\n",
       "       page_token_count  page_sentence_count_spacy  \n",
       "count            210.00                     210.00  \n",
       "mean             557.08                      25.62  \n",
       "std              390.83                      19.12  \n",
       "min                0.00                       0.00  \n",
       "25%              130.31                       5.00  \n",
       "50%              685.25                      28.00  \n",
       "75%              884.38                      41.00  \n",
       "max             1472.00                      70.00  "
      ]
     },
     "execution_count": 12,
     "metadata": {},
     "output_type": "execute_result"
    }
   ],
   "source": [
    "df = pd.DataFrame(pages_and_texts)\n",
    "df.describe().round(2)"
   ]
  },
  {
   "cell_type": "markdown",
   "id": "b608ebf4-3ece-4895-843a-e01572eff3d1",
   "metadata": {},
   "source": [
    "### chunking the sentences together (splitting larger pieces into smaller ones is referred to as splitting or chunking). \n",
    "no 100% correct way to do this.\n",
    "split into groups of 10 sentences for simplicity. the number can be changed.\n",
    "frameworks like langchain might help. but doing this purely on python.\n",
    "\n",
    "Why we do this?\n",
    "1. so our texts are easier to filter. smaller groups of text can be easier to inspect than the large passages.\n",
    "2. so our texts chunks fit into our embedding model context window (e.g. 384 tokens as limit).\n",
    "3. so our contexts passed into LLMs can be specific and focused."
   ]
  },
  {
   "cell_type": "code",
   "execution_count": 13,
   "id": "97c3f647-af4c-46a0-932e-cbe79bad3edb",
   "metadata": {},
   "outputs": [
    {
     "data": {
      "text/plain": [
       "[[0, 1, 2, 3, 4, 5, 6, 7, 8, 9],\n",
       " [10, 11, 12, 13, 14, 15, 16, 17, 18, 19],\n",
       " [20, 21, 22, 23, 24]]"
      ]
     },
     "execution_count": 13,
     "metadata": {},
     "output_type": "execute_result"
    }
   ],
   "source": [
    "# define split size to turn groups of sentences into chunks\n",
    "num_sentence_chunk_size = 10\n",
    "\n",
    "# create a function to split lists of text recursively into chunk size\n",
    "# e.g. [20] -> [10, 10], [25] -> [10, 10, 5]\n",
    "def split_list(input_list: list[str], slice_size: int = num_sentence_chunk_size) -> list[list[str]]:\n",
    "    return [input_list[i:i+slice_size] for i in range(0, len(input_list), slice_size)]\n",
    "\n",
    "test_list = list(range(25))\n",
    "split_list(test_list)"
   ]
  },
  {
   "cell_type": "code",
   "execution_count": 14,
   "id": "fd946dc6-87c7-41c9-a365-e24ef598df6b",
   "metadata": {},
   "outputs": [
    {
     "data": {
      "application/vnd.jupyter.widget-view+json": {
       "model_id": "7bd6517f0742405cbd00c90735a4a4c0",
       "version_major": 2,
       "version_minor": 0
      },
      "text/plain": [
       "  0%|          | 0/210 [00:00<?, ?it/s]"
      ]
     },
     "metadata": {},
     "output_type": "display_data"
    }
   ],
   "source": [
    "# loop through pages and texts and split sentences into chunks\n",
    "for item in tqdm(pages_and_texts):\n",
    "    item[\"sentence_chunks\"] = split_list(input_list= item[\"sentences\"], slice_size=num_sentence_chunk_size)\n",
    "    item[\"num_chunks\"] = len(item[\"sentence_chunks\"])"
   ]
  },
  {
   "cell_type": "code",
   "execution_count": 15,
   "id": "5777bf3e-edc8-4626-8cf1-0bd695c0bf4b",
   "metadata": {},
   "outputs": [
    {
     "data": {
      "text/plain": [
       "[{'page_number': 145,\n",
       "  'page_char_count': 5047,\n",
       "  'page_word_count': 850,\n",
       "  'page_sentence_count_raw': 43,\n",
       "  'page_token_count': 1261.75,\n",
       "  'text': 'Portugal 19.7 Spain 19.8 Italy 22.2 Greece 25.2 Ireland 13.2 The list is from Friedrich Schneider’s “The Influence of the Economic Crisis on the Underground Economy in Germany and other OECD-countries in 2010” (unpublished paper, revised edition, January 2010). The list is not surprising. American, Swiss, and Japanese taxpayers are pretty honest. So are most of the other Western European democracies. Greece, Spain, and Italy are not. In fact, the level of tax evasion in Greece is such that the country’s deficit—which is so large that Greece has teetered on the brink of outright bankruptcy for years—would all but disappear if Greek citizens obeyed the law and paid what they owed. Why is America so much more law- abiding when it comes to taxes than Greece? Leites and Wolf would attribute that to the fact that the costs of tax evasion in the United States are much greater than the benefits: that if Americans cheat, there’s a good chance they’ll get caught and punished. But that’s completely untrue. In the United States, a little more than 1 percent of tax returns are audited every year. That’s tiny. And if they get caught underreporting their income, the most common penalty is simply paying back taxes plus a relatively modest fine. Jail time is rare. If American taxpayers behaved rationally— according to Leites and Wolf’s definition of the word—tax evasion in America should be rampant. As the tax economist James Alm puts it: In countries with effective audit rates of one percent, you should observe cheating levels of 90 percent or above. If you declare one more dollar of income, you would pay 30, 40 cents in tax. If you don’t declare that dollar, then you keep all of it and there is some chance you will get caught. But it’s .01 or less. And if you are detected then the IRS has to determine whether it is intentional. If it is not, you pay back taxes plus about ten percent. If you are audited and you are found to be fraudulent you pay back taxes plus about 75 percent. So the expected cost of getting caught is just not that large. The calculus is tilted very, very heavily in favor of cheating. So why don’t Americans cheat? Because they think that their system is legitimate. People accept authority when they see that it treats everyone equally, when it is possible to speak up and be heard, and when there are rules in place that assure you that tomorrow you won’t be treated radically different from how you are treated today. Legitimacy is based on fairness, voice, and predictability, and the U.S. government, as much as Americans like to grumble about it, does a pretty good job of meeting all three standards. In Greece, the underground economy is three times larger in relative terms than that of the United States. But that’s not because Greeks are somehow less honest than Americans. It’s because the Greek system is less legitimate than the American system. Greece is one of the most corrupt countries in all of Europe. Its tax code is a mess. Wealthy people get special insider deals, and if you and I lived in a country where the tax system was so blatantly illegitimate—where nothing seemed fair, and where our voices weren’t heard, and where the rules changed from one day to the next—we wouldn’t pay our taxes either. The discussion of parades in marching season in Ireland comes from Dominic Bryan, Orange Parades: The Politics of Ritual, Tradition and Control (Pluto Press, 2000). Desmond Hamill’s account of the British Army in Northern Ireland is Pig in the Middle: The Army in Northern Ireland 1969–1984 (Methuen, 1985). The ditty that begins “On the 15th of August” appears on page 18. “The [IRA] retaliated” is on page 32. The statistics on deaths and violence in 1969 Northern Ireland are from John Soule’s “Problems in Applying Counterterrorism to Prevent Terrorism: Two Decades of Violence in Northern Ireland Reconsidered,” Terrorism 12 (1989): 33. The account of when General Freeland descended on the Lower Falls is told by Seán MacStiofáin in Seán Óg Ó Fearghaíl’s Law (?) and Orders: The Story of the Belfast Curfew (Central Citizens’ Defense Committee, 1970). The details about Patrick Elliman’s death appear on page 14. A good source on the curfew is Taylor’s Provos. The detail about the man in his pajamas comes from Nicky Curtis, Faith and Duty: The True Story of a Soldier’s War in Northern Ireland (André Deutsch, 1998). CHAPTER EIGHT: WILMA DERKSEN The account of the history of Three Strikes relies on several sources, chief among them: Mike Reynolds, Bill Jones, and Dan Evans, Three Strikes and You’re Out! The Chronicle of America’s Toughest Anti-Crime Law (Quill Driver Books/Word Dancer Press, 1996); Joe Domanick, Cruel Justice: Three Strikes and the Politics of Crime in America’s Golden State (University of California Press, 2004); Franklin Zimring, Gordon Hawkins, and Sam Kamin, Punishment and Democracy: Three Strikes and You’re Out in California (Oxford, 2001); and George Skelton, “A Father’s Crusade Born from Pain,” Los Angeles Times, December 9, 1993. Richard',\n",
       "  'sentences': ['Portugal 19.7 Spain 19.8 Italy 22.2 Greece 25.2 Ireland 13.2 The list is from Friedrich Schneider’s “The Influence of the Economic Crisis on the Underground Economy in Germany and other OECD-countries in 2010” (unpublished paper, revised edition, January 2010).',\n",
       "   'The list is not surprising.',\n",
       "   'American, Swiss, and Japanese taxpayers are pretty honest.',\n",
       "   'So are most of the other Western European democracies.',\n",
       "   'Greece, Spain, and Italy are not.',\n",
       "   'In fact, the level of tax evasion in Greece is such that the country’s deficit—which is so large that Greece has teetered on the brink of outright bankruptcy for years—would all but disappear if Greek citizens obeyed the law and paid what they owed.',\n",
       "   'Why is America so much more law- abiding when it comes to taxes than Greece?',\n",
       "   'Leites and Wolf would attribute that to the fact that the costs of tax evasion in the United States are much greater than the benefits: that if Americans cheat, there’s a good chance they’ll get caught and punished.',\n",
       "   'But that’s completely untrue.',\n",
       "   'In the United States, a little more than 1 percent of tax returns are audited every year.',\n",
       "   'That’s tiny.',\n",
       "   'And if they get caught underreporting their income, the most common penalty is simply paying back taxes plus a relatively modest fine.',\n",
       "   'Jail time is rare.',\n",
       "   'If American taxpayers behaved rationally— according to Leites and Wolf’s definition of the word—tax evasion in America should be rampant.',\n",
       "   'As the tax economist James Alm puts it: In countries with effective audit rates of one percent, you should observe cheating levels of 90 percent or above.',\n",
       "   'If you declare one more dollar of income, you would pay 30, 40 cents in tax.',\n",
       "   'If you don’t declare that dollar, then you keep all of it and there is some chance you will get caught.',\n",
       "   'But it’s .01 or less.',\n",
       "   'And if you are detected then the IRS has to determine whether it is intentional.',\n",
       "   'If it is not, you pay back taxes plus about ten percent.',\n",
       "   'If you are audited and you are found to be fraudulent you pay back taxes plus about 75 percent.',\n",
       "   'So the expected cost of getting caught is just not that large.',\n",
       "   'The calculus is tilted very, very heavily in favor of cheating.',\n",
       "   'So why don’t Americans cheat?',\n",
       "   'Because they think that their system is legitimate.',\n",
       "   'People accept authority when they see that it treats everyone equally, when it is possible to speak up and be heard, and when there are rules in place that assure you that tomorrow you won’t be treated radically different from how you are treated today.',\n",
       "   'Legitimacy is based on fairness, voice, and predictability, and the U.S. government, as much as Americans like to grumble about it, does a pretty good job of meeting all three standards.',\n",
       "   'In Greece, the underground economy is three times larger in relative terms than that of the United States.',\n",
       "   'But that’s not because Greeks are somehow less honest than Americans.',\n",
       "   'It’s because the Greek system is less legitimate than the American system.',\n",
       "   'Greece is one of the most corrupt countries in all of Europe.',\n",
       "   'Its tax code is a mess.',\n",
       "   'Wealthy people get special insider deals, and if you and I lived in a country where the tax system was so blatantly illegitimate—where nothing seemed fair, and where our voices weren’t heard, and where the rules changed from one day to the next—we wouldn’t pay our taxes either.',\n",
       "   'The discussion of parades in marching season in Ireland comes from Dominic Bryan, Orange Parades: The Politics of Ritual, Tradition and Control (Pluto Press, 2000).',\n",
       "   'Desmond Hamill’s account of the British Army in Northern Ireland is Pig in the Middle: The Army in Northern Ireland 1969–1984 (Methuen, 1985).',\n",
       "   'The ditty that begins “On the 15th of August” appears on page 18. “',\n",
       "   'The [IRA] retaliated” is on page 32.',\n",
       "   'The statistics on deaths and violence in 1969 Northern Ireland are from John Soule’s “Problems in Applying Counterterrorism to Prevent Terrorism: Two Decades of Violence in Northern Ireland Reconsidered,” Terrorism 12 (1989): 33.',\n",
       "   'The account of when General Freeland descended on the Lower Falls is told by Seán MacStiofáin in Seán Óg Ó Fearghaíl’s Law (?)',\n",
       "   'and Orders: The Story of the Belfast Curfew (Central Citizens’ Defense Committee, 1970).',\n",
       "   'The details about Patrick Elliman’s death appear on page 14.',\n",
       "   'A good source on the curfew is Taylor’s Provos.',\n",
       "   'The detail about the man in his pajamas comes from Nicky Curtis, Faith and Duty: The True Story of a Soldier’s War in Northern Ireland (André Deutsch, 1998).',\n",
       "   'CHAPTER EIGHT: WILMA DERKSEN The account of the history of Three Strikes relies on several sources, chief among them: Mike Reynolds, Bill Jones, and Dan Evans, Three Strikes and You’re Out!',\n",
       "   'The Chronicle of America’s Toughest Anti-Crime Law (Quill Driver Books/Word Dancer Press, 1996); Joe Domanick, Cruel Justice: Three Strikes and the Politics of Crime in America’s Golden State (University of California Press, 2004); Franklin Zimring, Gordon Hawkins, and Sam Kamin, Punishment and Democracy: Three Strikes and You’re Out in California (Oxford, 2001); and George Skelton, “A Father’s Crusade Born from Pain,” Los Angeles Times, December 9, 1993.',\n",
       "   'Richard'],\n",
       "  'page_sentence_count_spacy': 46,\n",
       "  'sentence_chunks': [['Portugal 19.7 Spain 19.8 Italy 22.2 Greece 25.2 Ireland 13.2 The list is from Friedrich Schneider’s “The Influence of the Economic Crisis on the Underground Economy in Germany and other OECD-countries in 2010” (unpublished paper, revised edition, January 2010).',\n",
       "    'The list is not surprising.',\n",
       "    'American, Swiss, and Japanese taxpayers are pretty honest.',\n",
       "    'So are most of the other Western European democracies.',\n",
       "    'Greece, Spain, and Italy are not.',\n",
       "    'In fact, the level of tax evasion in Greece is such that the country’s deficit—which is so large that Greece has teetered on the brink of outright bankruptcy for years—would all but disappear if Greek citizens obeyed the law and paid what they owed.',\n",
       "    'Why is America so much more law- abiding when it comes to taxes than Greece?',\n",
       "    'Leites and Wolf would attribute that to the fact that the costs of tax evasion in the United States are much greater than the benefits: that if Americans cheat, there’s a good chance they’ll get caught and punished.',\n",
       "    'But that’s completely untrue.',\n",
       "    'In the United States, a little more than 1 percent of tax returns are audited every year.'],\n",
       "   ['That’s tiny.',\n",
       "    'And if they get caught underreporting their income, the most common penalty is simply paying back taxes plus a relatively modest fine.',\n",
       "    'Jail time is rare.',\n",
       "    'If American taxpayers behaved rationally— according to Leites and Wolf’s definition of the word—tax evasion in America should be rampant.',\n",
       "    'As the tax economist James Alm puts it: In countries with effective audit rates of one percent, you should observe cheating levels of 90 percent or above.',\n",
       "    'If you declare one more dollar of income, you would pay 30, 40 cents in tax.',\n",
       "    'If you don’t declare that dollar, then you keep all of it and there is some chance you will get caught.',\n",
       "    'But it’s .01 or less.',\n",
       "    'And if you are detected then the IRS has to determine whether it is intentional.',\n",
       "    'If it is not, you pay back taxes plus about ten percent.'],\n",
       "   ['If you are audited and you are found to be fraudulent you pay back taxes plus about 75 percent.',\n",
       "    'So the expected cost of getting caught is just not that large.',\n",
       "    'The calculus is tilted very, very heavily in favor of cheating.',\n",
       "    'So why don’t Americans cheat?',\n",
       "    'Because they think that their system is legitimate.',\n",
       "    'People accept authority when they see that it treats everyone equally, when it is possible to speak up and be heard, and when there are rules in place that assure you that tomorrow you won’t be treated radically different from how you are treated today.',\n",
       "    'Legitimacy is based on fairness, voice, and predictability, and the U.S. government, as much as Americans like to grumble about it, does a pretty good job of meeting all three standards.',\n",
       "    'In Greece, the underground economy is three times larger in relative terms than that of the United States.',\n",
       "    'But that’s not because Greeks are somehow less honest than Americans.',\n",
       "    'It’s because the Greek system is less legitimate than the American system.'],\n",
       "   ['Greece is one of the most corrupt countries in all of Europe.',\n",
       "    'Its tax code is a mess.',\n",
       "    'Wealthy people get special insider deals, and if you and I lived in a country where the tax system was so blatantly illegitimate—where nothing seemed fair, and where our voices weren’t heard, and where the rules changed from one day to the next—we wouldn’t pay our taxes either.',\n",
       "    'The discussion of parades in marching season in Ireland comes from Dominic Bryan, Orange Parades: The Politics of Ritual, Tradition and Control (Pluto Press, 2000).',\n",
       "    'Desmond Hamill’s account of the British Army in Northern Ireland is Pig in the Middle: The Army in Northern Ireland 1969–1984 (Methuen, 1985).',\n",
       "    'The ditty that begins “On the 15th of August” appears on page 18. “',\n",
       "    'The [IRA] retaliated” is on page 32.',\n",
       "    'The statistics on deaths and violence in 1969 Northern Ireland are from John Soule’s “Problems in Applying Counterterrorism to Prevent Terrorism: Two Decades of Violence in Northern Ireland Reconsidered,” Terrorism 12 (1989): 33.',\n",
       "    'The account of when General Freeland descended on the Lower Falls is told by Seán MacStiofáin in Seán Óg Ó Fearghaíl’s Law (?)',\n",
       "    'and Orders: The Story of the Belfast Curfew (Central Citizens’ Defense Committee, 1970).'],\n",
       "   ['The details about Patrick Elliman’s death appear on page 14.',\n",
       "    'A good source on the curfew is Taylor’s Provos.',\n",
       "    'The detail about the man in his pajamas comes from Nicky Curtis, Faith and Duty: The True Story of a Soldier’s War in Northern Ireland (André Deutsch, 1998).',\n",
       "    'CHAPTER EIGHT: WILMA DERKSEN The account of the history of Three Strikes relies on several sources, chief among them: Mike Reynolds, Bill Jones, and Dan Evans, Three Strikes and You’re Out!',\n",
       "    'The Chronicle of America’s Toughest Anti-Crime Law (Quill Driver Books/Word Dancer Press, 1996); Joe Domanick, Cruel Justice: Three Strikes and the Politics of Crime in America’s Golden State (University of California Press, 2004); Franklin Zimring, Gordon Hawkins, and Sam Kamin, Punishment and Democracy: Three Strikes and You’re Out in California (Oxford, 2001); and George Skelton, “A Father’s Crusade Born from Pain,” Los Angeles Times, December 9, 1993.',\n",
       "    'Richard']],\n",
       "  'num_chunks': 5}]"
      ]
     },
     "execution_count": 15,
     "metadata": {},
     "output_type": "execute_result"
    }
   ],
   "source": [
    "random.sample(pages_and_texts, k=1)"
   ]
  },
  {
   "cell_type": "code",
   "execution_count": 16,
   "id": "7d11c532-07f6-4845-861a-6005834bff36",
   "metadata": {},
   "outputs": [
    {
     "data": {
      "text/html": [
       "<div>\n",
       "<style scoped>\n",
       "    .dataframe tbody tr th:only-of-type {\n",
       "        vertical-align: middle;\n",
       "    }\n",
       "\n",
       "    .dataframe tbody tr th {\n",
       "        vertical-align: top;\n",
       "    }\n",
       "\n",
       "    .dataframe thead th {\n",
       "        text-align: right;\n",
       "    }\n",
       "</style>\n",
       "<table border=\"1\" class=\"dataframe\">\n",
       "  <thead>\n",
       "    <tr style=\"text-align: right;\">\n",
       "      <th></th>\n",
       "      <th>page_number</th>\n",
       "      <th>page_char_count</th>\n",
       "      <th>page_word_count</th>\n",
       "      <th>page_sentence_count_raw</th>\n",
       "      <th>page_token_count</th>\n",
       "      <th>page_sentence_count_spacy</th>\n",
       "      <th>num_chunks</th>\n",
       "    </tr>\n",
       "  </thead>\n",
       "  <tbody>\n",
       "    <tr>\n",
       "      <th>count</th>\n",
       "      <td>210.00</td>\n",
       "      <td>210.00</td>\n",
       "      <td>210.00</td>\n",
       "      <td>210.00</td>\n",
       "      <td>210.00</td>\n",
       "      <td>210.00</td>\n",
       "      <td>210.00</td>\n",
       "    </tr>\n",
       "    <tr>\n",
       "      <th>mean</th>\n",
       "      <td>105.50</td>\n",
       "      <td>2228.32</td>\n",
       "      <td>387.00</td>\n",
       "      <td>21.99</td>\n",
       "      <td>557.08</td>\n",
       "      <td>25.62</td>\n",
       "      <td>3.05</td>\n",
       "    </tr>\n",
       "    <tr>\n",
       "      <th>std</th>\n",
       "      <td>60.77</td>\n",
       "      <td>1563.33</td>\n",
       "      <td>269.38</td>\n",
       "      <td>16.45</td>\n",
       "      <td>390.83</td>\n",
       "      <td>19.12</td>\n",
       "      <td>1.85</td>\n",
       "    </tr>\n",
       "    <tr>\n",
       "      <th>min</th>\n",
       "      <td>1.00</td>\n",
       "      <td>0.00</td>\n",
       "      <td>1.00</td>\n",
       "      <td>1.00</td>\n",
       "      <td>0.00</td>\n",
       "      <td>0.00</td>\n",
       "      <td>0.00</td>\n",
       "    </tr>\n",
       "    <tr>\n",
       "      <th>25%</th>\n",
       "      <td>53.25</td>\n",
       "      <td>521.25</td>\n",
       "      <td>94.25</td>\n",
       "      <td>5.00</td>\n",
       "      <td>130.31</td>\n",
       "      <td>5.00</td>\n",
       "      <td>1.00</td>\n",
       "    </tr>\n",
       "    <tr>\n",
       "      <th>50%</th>\n",
       "      <td>105.50</td>\n",
       "      <td>2741.00</td>\n",
       "      <td>454.50</td>\n",
       "      <td>23.50</td>\n",
       "      <td>685.25</td>\n",
       "      <td>28.00</td>\n",
       "      <td>3.00</td>\n",
       "    </tr>\n",
       "    <tr>\n",
       "      <th>75%</th>\n",
       "      <td>157.75</td>\n",
       "      <td>3537.50</td>\n",
       "      <td>616.50</td>\n",
       "      <td>35.75</td>\n",
       "      <td>884.38</td>\n",
       "      <td>41.00</td>\n",
       "      <td>5.00</td>\n",
       "    </tr>\n",
       "    <tr>\n",
       "      <th>max</th>\n",
       "      <td>210.00</td>\n",
       "      <td>5888.00</td>\n",
       "      <td>955.00</td>\n",
       "      <td>65.00</td>\n",
       "      <td>1472.00</td>\n",
       "      <td>70.00</td>\n",
       "      <td>7.00</td>\n",
       "    </tr>\n",
       "  </tbody>\n",
       "</table>\n",
       "</div>"
      ],
      "text/plain": [
       "       page_number  page_char_count  page_word_count  page_sentence_count_raw  \\\n",
       "count       210.00           210.00           210.00                   210.00   \n",
       "mean        105.50          2228.32           387.00                    21.99   \n",
       "std          60.77          1563.33           269.38                    16.45   \n",
       "min           1.00             0.00             1.00                     1.00   \n",
       "25%          53.25           521.25            94.25                     5.00   \n",
       "50%         105.50          2741.00           454.50                    23.50   \n",
       "75%         157.75          3537.50           616.50                    35.75   \n",
       "max         210.00          5888.00           955.00                    65.00   \n",
       "\n",
       "       page_token_count  page_sentence_count_spacy  num_chunks  \n",
       "count            210.00                     210.00      210.00  \n",
       "mean             557.08                      25.62        3.05  \n",
       "std              390.83                      19.12        1.85  \n",
       "min                0.00                       0.00        0.00  \n",
       "25%              130.31                       5.00        1.00  \n",
       "50%              685.25                      28.00        3.00  \n",
       "75%              884.38                      41.00        5.00  \n",
       "max             1472.00                      70.00        7.00  "
      ]
     },
     "execution_count": 16,
     "metadata": {},
     "output_type": "execute_result"
    }
   ],
   "source": [
    "df = pd.DataFrame(pages_and_texts)\n",
    "df.describe().round(2)"
   ]
  },
  {
   "cell_type": "markdown",
   "id": "0871ef67-aff7-4da4-9413-89e2be65f3fd",
   "metadata": {},
   "source": [
    "### Splitting each chunk into its own item\n",
    "\n",
    "embed chunk of sentences into its own numerical representation. that'll give us a good granularity.\n",
    "\n",
    "meaning, we can dive specifically into the text sample that was used in our model."
   ]
  },
  {
   "cell_type": "code",
   "execution_count": 17,
   "id": "b3bdef94-ae14-415f-b6ed-a5c521b23ff5",
   "metadata": {},
   "outputs": [
    {
     "data": {
      "application/vnd.jupyter.widget-view+json": {
       "model_id": "ce8f38791ea0483aba812a0f1f7de5b4",
       "version_major": 2,
       "version_minor": 0
      },
      "text/plain": [
       "  0%|          | 0/210 [00:00<?, ?it/s]"
      ]
     },
     "metadata": {},
     "output_type": "display_data"
    },
    {
     "data": {
      "text/plain": [
       "641"
      ]
     },
     "execution_count": 17,
     "metadata": {},
     "output_type": "execute_result"
    }
   ],
   "source": [
    "import re\n",
    "\n",
    "#split each chunk into its own item\n",
    "pages_and_chunks = []\n",
    "for item in tqdm(pages_and_texts):\n",
    "    for sentence_chunk in item[\"sentence_chunks\"]:\n",
    "        chunk_dict = {}\n",
    "        chunk_dict[\"page_number\"] = item[\"page_number\"]\n",
    "\n",
    "        # join the sentences together into a paragraph like structure (join the list of sentences into one paragraph)\n",
    "        joined_sentence_chunk = \"\".join(sentence_chunk).replace(\" \", \" \").strip()\n",
    "        joined_sentence_chunk = re.sub(r'\\.([A-Z])', r'. \\1', joined_sentence_chunk) # \".A\" -> \". A\" (will work for any capital letter)\n",
    "\n",
    "        chunk_dict[\"sentence_chunk\"] = joined_sentence_chunk\n",
    "\n",
    "        #get some stats on our chunks\n",
    "        chunk_dict[\"chunk_char_count\"] = len(joined_sentence_chunk)\n",
    "        chunk_dict[\"chunk_word_count\"] = len([word for word in joined_sentence_chunk.split(\" \")])\n",
    "        chunk_dict[\"chunk_token_count\"] = len(joined_sentence_chunk) / 4 #1 token = ~4 chars\n",
    "\n",
    "        pages_and_chunks.append(chunk_dict)\n",
    "\n",
    "len(pages_and_chunks)\n",
    "        "
   ]
  },
  {
   "cell_type": "code",
   "execution_count": 18,
   "id": "d618babd-3f0f-4dd3-8d6d-b4da3d65ed71",
   "metadata": {},
   "outputs": [
    {
     "data": {
      "text/plain": [
       "[{'page_number': 119,\n",
       "  'sentence_chunk': 'Parole was being granted too easily and too quickly. Chronic offenders were being treated no differently than people who were committing crimes for the first time. Douglas Walker, the man on the back of the motorcycle, had his first run-in with the law when he was thirteen years old for trafficking heroin. He had recently been given a temporary release so he could visit his pregnant wife, and he had never returned. Did that make sense?The group put together a proposal. At Reynolds’s insistence, it was short and simple, written in laymen’s language. It became known as the Three Strikes Law. Anyone convicted of a second serious or criminal offense in California, it stated, would have to serve double the sentence currently on the books. And anyone convicted of a third offense—and the definition of a third offense included every crime imaginable—would run out of chances entirely and serve a mandatory sentence of twenty-five years to life.*',\n",
       "  'chunk_char_count': 949,\n",
       "  'chunk_word_count': 157,\n",
       "  'chunk_token_count': 237.25}]"
      ]
     },
     "execution_count": 18,
     "metadata": {},
     "output_type": "execute_result"
    }
   ],
   "source": [
    "random.sample(pages_and_chunks, k=1)"
   ]
  },
  {
   "cell_type": "code",
   "execution_count": 19,
   "id": "a3e85309-bfa8-468c-b88e-4d7f44585aef",
   "metadata": {},
   "outputs": [
    {
     "data": {
      "text/html": [
       "<div>\n",
       "<style scoped>\n",
       "    .dataframe tbody tr th:only-of-type {\n",
       "        vertical-align: middle;\n",
       "    }\n",
       "\n",
       "    .dataframe tbody tr th {\n",
       "        vertical-align: top;\n",
       "    }\n",
       "\n",
       "    .dataframe thead th {\n",
       "        text-align: right;\n",
       "    }\n",
       "</style>\n",
       "<table border=\"1\" class=\"dataframe\">\n",
       "  <thead>\n",
       "    <tr style=\"text-align: right;\">\n",
       "      <th></th>\n",
       "      <th>page_number</th>\n",
       "      <th>chunk_char_count</th>\n",
       "      <th>chunk_word_count</th>\n",
       "      <th>chunk_token_count</th>\n",
       "    </tr>\n",
       "  </thead>\n",
       "  <tbody>\n",
       "    <tr>\n",
       "      <th>count</th>\n",
       "      <td>641.00</td>\n",
       "      <td>641.00</td>\n",
       "      <td>641.00</td>\n",
       "      <td>641.00</td>\n",
       "    </tr>\n",
       "    <tr>\n",
       "      <th>mean</th>\n",
       "      <td>91.22</td>\n",
       "      <td>728.18</td>\n",
       "      <td>125.61</td>\n",
       "      <td>182.04</td>\n",
       "    </tr>\n",
       "    <tr>\n",
       "      <th>std</th>\n",
       "      <td>49.89</td>\n",
       "      <td>353.93</td>\n",
       "      <td>58.94</td>\n",
       "      <td>88.48</td>\n",
       "    </tr>\n",
       "    <tr>\n",
       "      <th>min</th>\n",
       "      <td>3.00</td>\n",
       "      <td>2.00</td>\n",
       "      <td>1.00</td>\n",
       "      <td>0.50</td>\n",
       "    </tr>\n",
       "    <tr>\n",
       "      <th>25%</th>\n",
       "      <td>52.00</td>\n",
       "      <td>498.00</td>\n",
       "      <td>87.00</td>\n",
       "      <td>124.50</td>\n",
       "    </tr>\n",
       "    <tr>\n",
       "      <th>50%</th>\n",
       "      <td>89.00</td>\n",
       "      <td>718.00</td>\n",
       "      <td>126.00</td>\n",
       "      <td>179.50</td>\n",
       "    </tr>\n",
       "    <tr>\n",
       "      <th>75%</th>\n",
       "      <td>127.00</td>\n",
       "      <td>954.00</td>\n",
       "      <td>163.00</td>\n",
       "      <td>238.50</td>\n",
       "    </tr>\n",
       "    <tr>\n",
       "      <th>max</th>\n",
       "      <td>210.00</td>\n",
       "      <td>2112.00</td>\n",
       "      <td>358.00</td>\n",
       "      <td>528.00</td>\n",
       "    </tr>\n",
       "  </tbody>\n",
       "</table>\n",
       "</div>"
      ],
      "text/plain": [
       "       page_number  chunk_char_count  chunk_word_count  chunk_token_count\n",
       "count       641.00            641.00            641.00             641.00\n",
       "mean         91.22            728.18            125.61             182.04\n",
       "std          49.89            353.93             58.94              88.48\n",
       "min           3.00              2.00              1.00               0.50\n",
       "25%          52.00            498.00             87.00             124.50\n",
       "50%          89.00            718.00            126.00             179.50\n",
       "75%         127.00            954.00            163.00             238.50\n",
       "max         210.00           2112.00            358.00             528.00"
      ]
     },
     "execution_count": 19,
     "metadata": {},
     "output_type": "execute_result"
    }
   ],
   "source": [
    "df = pd.DataFrame(pages_and_chunks)\n",
    "df.describe().round(2)"
   ]
  },
  {
   "cell_type": "code",
   "execution_count": 20,
   "id": "19b1b5e5-d44a-41f4-a889-9549d28152c9",
   "metadata": {},
   "outputs": [
    {
     "data": {
      "text/plain": [
       "144"
      ]
     },
     "execution_count": 20,
     "metadata": {},
     "output_type": "execute_result"
    }
   ],
   "source": [
    "528 - 384"
   ]
  },
  {
   "cell_type": "code",
   "execution_count": 21,
   "id": "311ffeeb-aa68-4e2d-9889-5481dd612a01",
   "metadata": {},
   "outputs": [
    {
     "data": {
      "text/html": [
       "<div>\n",
       "<style scoped>\n",
       "    .dataframe tbody tr th:only-of-type {\n",
       "        vertical-align: middle;\n",
       "    }\n",
       "\n",
       "    .dataframe tbody tr th {\n",
       "        vertical-align: top;\n",
       "    }\n",
       "\n",
       "    .dataframe thead th {\n",
       "        text-align: right;\n",
       "    }\n",
       "</style>\n",
       "<table border=\"1\" class=\"dataframe\">\n",
       "  <thead>\n",
       "    <tr style=\"text-align: right;\">\n",
       "      <th></th>\n",
       "      <th>page_number</th>\n",
       "      <th>sentence_chunk</th>\n",
       "      <th>chunk_char_count</th>\n",
       "      <th>chunk_word_count</th>\n",
       "      <th>chunk_token_count</th>\n",
       "    </tr>\n",
       "  </thead>\n",
       "  <tbody>\n",
       "    <tr>\n",
       "      <th>0</th>\n",
       "      <td>3</td>\n",
       "      <td>Malcolm Gladwell   david and goliath Underdogs...</td>\n",
       "      <td>86</td>\n",
       "      <td>15</td>\n",
       "      <td>21.50</td>\n",
       "    </tr>\n",
       "    <tr>\n",
       "      <th>1</th>\n",
       "      <td>4</td>\n",
       "      <td>Contents INTRODUCTION Goliath “Am I a dog that...</td>\n",
       "      <td>677</td>\n",
       "      <td>112</td>\n",
       "      <td>169.25</td>\n",
       "    </tr>\n",
       "    <tr>\n",
       "      <th>2</th>\n",
       "      <td>4</td>\n",
       "      <td>PART THREE: THE LIMITS OF POWER SEVEN Rosemary...</td>\n",
       "      <td>205</td>\n",
       "      <td>36</td>\n",
       "      <td>51.25</td>\n",
       "    </tr>\n",
       "    <tr>\n",
       "      <th>3</th>\n",
       "      <td>5</td>\n",
       "      <td>André Trocmé “We feel obliged to tell you that...</td>\n",
       "      <td>128</td>\n",
       "      <td>21</td>\n",
       "      <td>32.00</td>\n",
       "    </tr>\n",
       "    <tr>\n",
       "      <th>4</th>\n",
       "      <td>6</td>\n",
       "      <td>BY THE SAME AUTHOR What the Dog Saw Outliers B...</td>\n",
       "      <td>68</td>\n",
       "      <td>13</td>\n",
       "      <td>17.00</td>\n",
       "    </tr>\n",
       "  </tbody>\n",
       "</table>\n",
       "</div>"
      ],
      "text/plain": [
       "   page_number                                     sentence_chunk  \\\n",
       "0            3  Malcolm Gladwell   david and goliath Underdogs...   \n",
       "1            4  Contents INTRODUCTION Goliath “Am I a dog that...   \n",
       "2            4  PART THREE: THE LIMITS OF POWER SEVEN Rosemary...   \n",
       "3            5  André Trocmé “We feel obliged to tell you that...   \n",
       "4            6  BY THE SAME AUTHOR What the Dog Saw Outliers B...   \n",
       "\n",
       "   chunk_char_count  chunk_word_count  chunk_token_count  \n",
       "0                86                15              21.50  \n",
       "1               677               112             169.25  \n",
       "2               205                36              51.25  \n",
       "3               128                21              32.00  \n",
       "4                68                13              17.00  "
      ]
     },
     "execution_count": 21,
     "metadata": {},
     "output_type": "execute_result"
    }
   ],
   "source": [
    "df.head()"
   ]
  },
  {
   "cell_type": "markdown",
   "id": "c3b8bdf5-a13f-4a96-a57e-b5c7531584ec",
   "metadata": {},
   "source": [
    "### filter chunks of text for short chunks\n",
    "these chunks may not contain much useful information"
   ]
  },
  {
   "cell_type": "code",
   "execution_count": 22,
   "id": "06bb6b63-47e1-4aa1-ab72-f4717883a940",
   "metadata": {},
   "outputs": [
    {
     "name": "stdout",
     "output_type": "stream",
     "text": [
      "Chunk token count: 8.0 | Text: or even this: What if it’s this?\n",
      "Chunk token count: 10.25 | Text: I wouldn’t be where I am today without my\n",
      "Chunk token count: 25.75 | Text: Alcohol is not inherently good or bad or neutral. It starts out good, becomes neutral, and ends up bad.\n",
      "Chunk token count: 18.25 | Text: And that’s the real issue—what can be done to enliven, enrich, and engage\n",
      "Chunk token count: 9.0 | Text: * “Stephen Randolph” is a pseudonym.\n"
     ]
    }
   ],
   "source": [
    "# show random chunks with under 30 tokens in length\n",
    "min_token_length = 30\n",
    "for row in df[df[\"chunk_token_count\"] <= min_token_length].sample(5).iterrows():\n",
    "    print(f'Chunk token count: {row[1][\"chunk_token_count\"]} | Text: {row[1][\"sentence_chunk\"]}')"
   ]
  },
  {
   "cell_type": "code",
   "execution_count": 23,
   "id": "a7075aca-a884-4c8d-8b4a-c2e13b98b2eb",
   "metadata": {},
   "outputs": [
    {
     "data": {
      "text/plain": [
       "[{'page_number': 4,\n",
       "  'sentence_chunk': 'Contents INTRODUCTION Goliath “Am I a dog that you should come to me with sticks?”PART ONE: THE ADVANTAGES OF DISADVANTAGES (AND THE DISADVANTAGES OF ADVANTAGES) ONE Vivek Ranadivé “It was really random. I mean, my father had never played basketball before.”TWO Teresa DeBrito “My largest class was twenty-nine kids. Oh, it was fun.”THREE Caroline Sacks “If I’d gone to the University of Maryland, I’d still be in science.”PART TWO: THE THEORY OF DESIRABLE DIFFICULTY FOUR David Boies You wouldn’t wish dyslexia on your child. Or would you?FIVE Emil “Jay” Freireich “How Jay did it, I don’t know.”SIX Wyatt Walker “De rabbit is de slickest o’ all de animals de Lawd ever made.”',\n",
       "  'chunk_char_count': 677,\n",
       "  'chunk_word_count': 112,\n",
       "  'chunk_token_count': 169.25},\n",
       " {'page_number': 4,\n",
       "  'sentence_chunk': 'PART THREE: THE LIMITS OF POWER SEVEN Rosemary Lawlor “I wasn’t born that way. This was forced upon me.”EIGHT Wilma Derksen “We have all done something dreadful in our lives, or have felt the urge to.”NINE',\n",
       "  'chunk_char_count': 205,\n",
       "  'chunk_word_count': 36,\n",
       "  'chunk_token_count': 51.25}]"
      ]
     },
     "execution_count": 23,
     "metadata": {},
     "output_type": "execute_result"
    }
   ],
   "source": [
    "# filter our dataframe for rows with under 30 tokens\n",
    "pages_and_chunks_over_min_token_length = df[df[\"chunk_token_count\"] > min_token_length].to_dict(orient=\"records\")\n",
    "pages_and_chunks_over_min_token_length[:2]"
   ]
  },
  {
   "cell_type": "code",
   "execution_count": 24,
   "id": "eca32b9f-2ff3-48e7-9772-c8dd9eb32cb6",
   "metadata": {},
   "outputs": [
    {
     "data": {
      "text/plain": [
       "[{'page_number': 114,\n",
       "  'sentence_chunk': 'The most important man in the community was the local priest. He came running. He went up to the soldiers. The raid must be done quickly, he warned them, or there would be trouble. Forty-five minutes passed, and the soldiers emerged with their haul: fifteen pistols, a rifle, a Schmeisser submachine gun, and a cache of explosives and ammunition. The patrol packed up and left, turning onto a side street that would take them out of the Lower Falls. In the interim, however, a small crowd had gathered, and as the armored cars turned the corner, a number of young men ran forward and started throwing stones at the soldiers. The patrol stopped. The crowd grew angry. The soldiers responded with tear gas.',\n",
       "  'chunk_char_count': 704,\n",
       "  'chunk_word_count': 123,\n",
       "  'chunk_token_count': 176.0}]"
      ]
     },
     "execution_count": 24,
     "metadata": {},
     "output_type": "execute_result"
    }
   ],
   "source": [
    "random.sample(pages_and_chunks_over_min_token_length, k=1)"
   ]
  },
  {
   "cell_type": "markdown",
   "id": "5a340219-9eb4-48d1-b1b4-a91ccf1ff32a",
   "metadata": {},
   "source": [
    "### Embedding the text chunks"
   ]
  },
  {
   "cell_type": "code",
   "execution_count": null,
   "id": "b2a82aa1-9ff7-433d-a491-ae5d9585dc80",
   "metadata": {},
   "outputs": [],
   "source": []
  }
 ],
 "metadata": {
  "kernelspec": {
   "display_name": "forklift",
   "language": "python",
   "name": "forklift"
  },
  "language_info": {
   "codemirror_mode": {
    "name": "ipython",
    "version": 3
   },
   "file_extension": ".py",
   "mimetype": "text/x-python",
   "name": "python",
   "nbconvert_exporter": "python",
   "pygments_lexer": "ipython3",
   "version": "3.9.19"
  }
 },
 "nbformat": 4,
 "nbformat_minor": 5
}
